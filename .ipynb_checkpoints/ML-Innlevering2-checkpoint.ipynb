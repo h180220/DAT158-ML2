{
 "cells": [
  {
   "cell_type": "markdown",
   "metadata": {},
   "source": [
    "# 1. Look at the big picture"
   ]
  },
  {
   "cell_type": "markdown",
   "metadata": {},
   "source": [
    "## 1.1 Frame the problem"
   ]
  },
  {
   "cell_type": "markdown",
   "metadata": {},
   "source": [
    "**The task/problem**<br>\n",
    "Box office blabla\n",
    "\n",
    "**The goal**<br>\n",
    "To get good predictions blbllblb\n",
    "\n",
    "**Solution to the problem**<br>\n",
    "nvfewdc"
   ]
  },
  {
   "cell_type": "markdown",
   "metadata": {},
   "source": [
    "## 1.2 Select performance measure"
   ]
  },
  {
   "cell_type": "markdown",
   "metadata": {},
   "source": [
    "It is important to have a way of measuring the performance of the model. There are many different ways of measuring performance, but for this problem we chose the Root Mean Square Error(RMSE). This method measures the standard deviaton of the errors and is widly used as a performance metric with regression problems."
   ]
  },
  {
   "cell_type": "markdown",
   "metadata": {},
   "source": [
    "$ RMSE (X, h) = \\sqrt{(\\frac{1}{m})\\sum_{i=1}^{m}(h(x^{i}) - y^{i})^{2}} $"
   ]
  },
  {
   "cell_type": "markdown",
   "metadata": {},
   "source": [
    "- m: number of instances in the dataset you are measuring the RMSE on. <br>\n",
    "- $ x^{i} $ : vector of all the feature values (excluding the label) of the ith instance in\n",
    "the dataset, and $ y^{i} $) is its label (the desired output value for that instance).<br>\n",
    "- X: matrix containing all the feature values (excluding labels) of all instances in\n",
    "the dataset.<br>\n",
    "- h: the system’s prediction function, also called a hypothesis.<br>\n",
    "- RMSE(X,h) is the cost function measured on the set of examples using your\n",
    "hypothesis h."
   ]
  },
  {
   "cell_type": "markdown",
   "metadata": {},
   "source": [
    "# 2 Get the data"
   ]
  },
  {
   "cell_type": "markdown",
   "metadata": {},
   "source": [
    "## 2.1 Setup"
   ]
  },
  {
   "cell_type": "code",
   "execution_count": 422,
   "metadata": {},
   "outputs": [],
   "source": [
    "#To display plots directly in the notebook\n",
    "%matplotlib inline\n",
    "\n",
    "import numpy as np\n",
    "import pandas as pd\n",
    "import matplotlib.pyplot as plt\n",
    "import matplotlib\n",
    "import sklearn\n",
    "import ast\n",
    "\n",
    "# To make the notebook reproducible\n",
    "seed = 42\n",
    "np.random.seed(seed)"
   ]
  },
  {
   "cell_type": "markdown",
   "metadata": {},
   "source": [
    "## 2.2 Importing the data"
   ]
  },
  {
   "cell_type": "markdown",
   "metadata": {},
   "source": [
    "Here we list the files found in the data folder."
   ]
  },
  {
   "cell_type": "code",
   "execution_count": 423,
   "metadata": {},
   "outputs": [
    {
     "name": "stdout",
     "output_type": "stream",
     "text": [
      "['sample_submission.csv', 'test.csv', 'train.csv']\n"
     ]
    }
   ],
   "source": [
    "import os\n",
    "print(os.listdir(\"data\"))"
   ]
  },
  {
   "cell_type": "markdown",
   "metadata": {},
   "source": [
    "The train.csv file is the one we will use to train, validate and test our model. <br><br>\n",
    "By using Pandas we create DataFrames containing the datasets."
   ]
  },
  {
   "cell_type": "code",
   "execution_count": 424,
   "metadata": {},
   "outputs": [],
   "source": [
    "films = pd.read_csv('data/train.csv')\n",
    "test = pd.read_csv('data/test.csv')"
   ]
  },
  {
   "cell_type": "markdown",
   "metadata": {},
   "source": [
    "## 2.2 Taking a look at the data"
   ]
  },
  {
   "cell_type": "markdown",
   "metadata": {},
   "source": [
    "To get a quick overview of the data we can use the head() function. "
   ]
  },
  {
   "cell_type": "code",
   "execution_count": 425,
   "metadata": {},
   "outputs": [
    {
     "data": {
      "text/html": [
       "<div>\n",
       "<style scoped>\n",
       "    .dataframe tbody tr th:only-of-type {\n",
       "        vertical-align: middle;\n",
       "    }\n",
       "\n",
       "    .dataframe tbody tr th {\n",
       "        vertical-align: top;\n",
       "    }\n",
       "\n",
       "    .dataframe thead th {\n",
       "        text-align: right;\n",
       "    }\n",
       "</style>\n",
       "<table border=\"1\" class=\"dataframe\">\n",
       "  <thead>\n",
       "    <tr style=\"text-align: right;\">\n",
       "      <th></th>\n",
       "      <th>id</th>\n",
       "      <th>belongs_to_collection</th>\n",
       "      <th>budget</th>\n",
       "      <th>genres</th>\n",
       "      <th>homepage</th>\n",
       "      <th>imdb_id</th>\n",
       "      <th>original_language</th>\n",
       "      <th>original_title</th>\n",
       "      <th>overview</th>\n",
       "      <th>popularity</th>\n",
       "      <th>...</th>\n",
       "      <th>release_date</th>\n",
       "      <th>runtime</th>\n",
       "      <th>spoken_languages</th>\n",
       "      <th>status</th>\n",
       "      <th>tagline</th>\n",
       "      <th>title</th>\n",
       "      <th>Keywords</th>\n",
       "      <th>cast</th>\n",
       "      <th>crew</th>\n",
       "      <th>revenue</th>\n",
       "    </tr>\n",
       "  </thead>\n",
       "  <tbody>\n",
       "    <tr>\n",
       "      <th>0</th>\n",
       "      <td>1</td>\n",
       "      <td>[{'id': 313576, 'name': 'Hot Tub Time Machine ...</td>\n",
       "      <td>14000000</td>\n",
       "      <td>[{'id': 35, 'name': 'Comedy'}]</td>\n",
       "      <td>NaN</td>\n",
       "      <td>tt2637294</td>\n",
       "      <td>en</td>\n",
       "      <td>Hot Tub Time Machine 2</td>\n",
       "      <td>When Lou, who has become the \"father of the In...</td>\n",
       "      <td>6.575393</td>\n",
       "      <td>...</td>\n",
       "      <td>2/20/15</td>\n",
       "      <td>93.0</td>\n",
       "      <td>[{'iso_639_1': 'en', 'name': 'English'}]</td>\n",
       "      <td>Released</td>\n",
       "      <td>The Laws of Space and Time are About to be Vio...</td>\n",
       "      <td>Hot Tub Time Machine 2</td>\n",
       "      <td>[{'id': 4379, 'name': 'time travel'}, {'id': 9...</td>\n",
       "      <td>[{'cast_id': 4, 'character': 'Lou', 'credit_id...</td>\n",
       "      <td>[{'credit_id': '59ac067c92514107af02c8c8', 'de...</td>\n",
       "      <td>12314651</td>\n",
       "    </tr>\n",
       "    <tr>\n",
       "      <th>1</th>\n",
       "      <td>2</td>\n",
       "      <td>[{'id': 107674, 'name': 'The Princess Diaries ...</td>\n",
       "      <td>40000000</td>\n",
       "      <td>[{'id': 35, 'name': 'Comedy'}, {'id': 18, 'nam...</td>\n",
       "      <td>NaN</td>\n",
       "      <td>tt0368933</td>\n",
       "      <td>en</td>\n",
       "      <td>The Princess Diaries 2: Royal Engagement</td>\n",
       "      <td>Mia Thermopolis is now a college graduate and ...</td>\n",
       "      <td>8.248895</td>\n",
       "      <td>...</td>\n",
       "      <td>8/6/04</td>\n",
       "      <td>113.0</td>\n",
       "      <td>[{'iso_639_1': 'en', 'name': 'English'}]</td>\n",
       "      <td>Released</td>\n",
       "      <td>It can take a lifetime to find true love; she'...</td>\n",
       "      <td>The Princess Diaries 2: Royal Engagement</td>\n",
       "      <td>[{'id': 2505, 'name': 'coronation'}, {'id': 42...</td>\n",
       "      <td>[{'cast_id': 1, 'character': 'Mia Thermopolis'...</td>\n",
       "      <td>[{'credit_id': '52fe43fe9251416c7502563d', 'de...</td>\n",
       "      <td>95149435</td>\n",
       "    </tr>\n",
       "    <tr>\n",
       "      <th>2</th>\n",
       "      <td>3</td>\n",
       "      <td>NaN</td>\n",
       "      <td>3300000</td>\n",
       "      <td>[{'id': 18, 'name': 'Drama'}]</td>\n",
       "      <td>http://sonyclassics.com/whiplash/</td>\n",
       "      <td>tt2582802</td>\n",
       "      <td>en</td>\n",
       "      <td>Whiplash</td>\n",
       "      <td>Under the direction of a ruthless instructor, ...</td>\n",
       "      <td>64.299990</td>\n",
       "      <td>...</td>\n",
       "      <td>10/10/14</td>\n",
       "      <td>105.0</td>\n",
       "      <td>[{'iso_639_1': 'en', 'name': 'English'}]</td>\n",
       "      <td>Released</td>\n",
       "      <td>The road to greatness can take you to the edge.</td>\n",
       "      <td>Whiplash</td>\n",
       "      <td>[{'id': 1416, 'name': 'jazz'}, {'id': 1523, 'n...</td>\n",
       "      <td>[{'cast_id': 5, 'character': 'Andrew Neimann',...</td>\n",
       "      <td>[{'credit_id': '54d5356ec3a3683ba0000039', 'de...</td>\n",
       "      <td>13092000</td>\n",
       "    </tr>\n",
       "    <tr>\n",
       "      <th>3</th>\n",
       "      <td>4</td>\n",
       "      <td>NaN</td>\n",
       "      <td>1200000</td>\n",
       "      <td>[{'id': 53, 'name': 'Thriller'}, {'id': 18, 'n...</td>\n",
       "      <td>http://kahaanithefilm.com/</td>\n",
       "      <td>tt1821480</td>\n",
       "      <td>hi</td>\n",
       "      <td>Kahaani</td>\n",
       "      <td>Vidya Bagchi (Vidya Balan) arrives in Kolkata ...</td>\n",
       "      <td>3.174936</td>\n",
       "      <td>...</td>\n",
       "      <td>3/9/12</td>\n",
       "      <td>122.0</td>\n",
       "      <td>[{'iso_639_1': 'en', 'name': 'English'}, {'iso...</td>\n",
       "      <td>Released</td>\n",
       "      <td>NaN</td>\n",
       "      <td>Kahaani</td>\n",
       "      <td>[{'id': 10092, 'name': 'mystery'}, {'id': 1054...</td>\n",
       "      <td>[{'cast_id': 1, 'character': 'Vidya Bagchi', '...</td>\n",
       "      <td>[{'credit_id': '52fe48779251416c9108d6eb', 'de...</td>\n",
       "      <td>16000000</td>\n",
       "    </tr>\n",
       "    <tr>\n",
       "      <th>4</th>\n",
       "      <td>5</td>\n",
       "      <td>NaN</td>\n",
       "      <td>0</td>\n",
       "      <td>[{'id': 28, 'name': 'Action'}, {'id': 53, 'nam...</td>\n",
       "      <td>NaN</td>\n",
       "      <td>tt1380152</td>\n",
       "      <td>ko</td>\n",
       "      <td>마린보이</td>\n",
       "      <td>Marine Boy is the story of a former national s...</td>\n",
       "      <td>1.148070</td>\n",
       "      <td>...</td>\n",
       "      <td>2/5/09</td>\n",
       "      <td>118.0</td>\n",
       "      <td>[{'iso_639_1': 'ko', 'name': '한국어/조선말'}]</td>\n",
       "      <td>Released</td>\n",
       "      <td>NaN</td>\n",
       "      <td>Marine Boy</td>\n",
       "      <td>NaN</td>\n",
       "      <td>[{'cast_id': 3, 'character': 'Chun-soo', 'cred...</td>\n",
       "      <td>[{'credit_id': '52fe464b9251416c75073b43', 'de...</td>\n",
       "      <td>3923970</td>\n",
       "    </tr>\n",
       "  </tbody>\n",
       "</table>\n",
       "<p>5 rows × 23 columns</p>\n",
       "</div>"
      ],
      "text/plain": [
       "   id                              belongs_to_collection    budget  \\\n",
       "0   1  [{'id': 313576, 'name': 'Hot Tub Time Machine ...  14000000   \n",
       "1   2  [{'id': 107674, 'name': 'The Princess Diaries ...  40000000   \n",
       "2   3                                                NaN   3300000   \n",
       "3   4                                                NaN   1200000   \n",
       "4   5                                                NaN         0   \n",
       "\n",
       "                                              genres  \\\n",
       "0                     [{'id': 35, 'name': 'Comedy'}]   \n",
       "1  [{'id': 35, 'name': 'Comedy'}, {'id': 18, 'nam...   \n",
       "2                      [{'id': 18, 'name': 'Drama'}]   \n",
       "3  [{'id': 53, 'name': 'Thriller'}, {'id': 18, 'n...   \n",
       "4  [{'id': 28, 'name': 'Action'}, {'id': 53, 'nam...   \n",
       "\n",
       "                            homepage    imdb_id original_language  \\\n",
       "0                                NaN  tt2637294                en   \n",
       "1                                NaN  tt0368933                en   \n",
       "2  http://sonyclassics.com/whiplash/  tt2582802                en   \n",
       "3         http://kahaanithefilm.com/  tt1821480                hi   \n",
       "4                                NaN  tt1380152                ko   \n",
       "\n",
       "                             original_title  \\\n",
       "0                    Hot Tub Time Machine 2   \n",
       "1  The Princess Diaries 2: Royal Engagement   \n",
       "2                                  Whiplash   \n",
       "3                                   Kahaani   \n",
       "4                                      마린보이   \n",
       "\n",
       "                                            overview  popularity  ...  \\\n",
       "0  When Lou, who has become the \"father of the In...    6.575393  ...   \n",
       "1  Mia Thermopolis is now a college graduate and ...    8.248895  ...   \n",
       "2  Under the direction of a ruthless instructor, ...   64.299990  ...   \n",
       "3  Vidya Bagchi (Vidya Balan) arrives in Kolkata ...    3.174936  ...   \n",
       "4  Marine Boy is the story of a former national s...    1.148070  ...   \n",
       "\n",
       "  release_date runtime                                   spoken_languages  \\\n",
       "0      2/20/15    93.0           [{'iso_639_1': 'en', 'name': 'English'}]   \n",
       "1       8/6/04   113.0           [{'iso_639_1': 'en', 'name': 'English'}]   \n",
       "2     10/10/14   105.0           [{'iso_639_1': 'en', 'name': 'English'}]   \n",
       "3       3/9/12   122.0  [{'iso_639_1': 'en', 'name': 'English'}, {'iso...   \n",
       "4       2/5/09   118.0           [{'iso_639_1': 'ko', 'name': '한국어/조선말'}]   \n",
       "\n",
       "     status                                            tagline  \\\n",
       "0  Released  The Laws of Space and Time are About to be Vio...   \n",
       "1  Released  It can take a lifetime to find true love; she'...   \n",
       "2  Released    The road to greatness can take you to the edge.   \n",
       "3  Released                                                NaN   \n",
       "4  Released                                                NaN   \n",
       "\n",
       "                                      title  \\\n",
       "0                    Hot Tub Time Machine 2   \n",
       "1  The Princess Diaries 2: Royal Engagement   \n",
       "2                                  Whiplash   \n",
       "3                                   Kahaani   \n",
       "4                                Marine Boy   \n",
       "\n",
       "                                            Keywords  \\\n",
       "0  [{'id': 4379, 'name': 'time travel'}, {'id': 9...   \n",
       "1  [{'id': 2505, 'name': 'coronation'}, {'id': 42...   \n",
       "2  [{'id': 1416, 'name': 'jazz'}, {'id': 1523, 'n...   \n",
       "3  [{'id': 10092, 'name': 'mystery'}, {'id': 1054...   \n",
       "4                                                NaN   \n",
       "\n",
       "                                                cast  \\\n",
       "0  [{'cast_id': 4, 'character': 'Lou', 'credit_id...   \n",
       "1  [{'cast_id': 1, 'character': 'Mia Thermopolis'...   \n",
       "2  [{'cast_id': 5, 'character': 'Andrew Neimann',...   \n",
       "3  [{'cast_id': 1, 'character': 'Vidya Bagchi', '...   \n",
       "4  [{'cast_id': 3, 'character': 'Chun-soo', 'cred...   \n",
       "\n",
       "                                                crew   revenue  \n",
       "0  [{'credit_id': '59ac067c92514107af02c8c8', 'de...  12314651  \n",
       "1  [{'credit_id': '52fe43fe9251416c7502563d', 'de...  95149435  \n",
       "2  [{'credit_id': '54d5356ec3a3683ba0000039', 'de...  13092000  \n",
       "3  [{'credit_id': '52fe48779251416c9108d6eb', 'de...  16000000  \n",
       "4  [{'credit_id': '52fe464b9251416c75073b43', 'de...   3923970  \n",
       "\n",
       "[5 rows x 23 columns]"
      ]
     },
     "execution_count": 425,
     "metadata": {},
     "output_type": "execute_result"
    }
   ],
   "source": [
    "films.head()"
   ]
  },
  {
   "cell_type": "markdown",
   "metadata": {},
   "source": [
    "Here we see that some of the columns contains dictionaries. These will have to be explored further.<br><br>\n",
    "To get more info on the dataset we use the info() method"
   ]
  },
  {
   "cell_type": "code",
   "execution_count": 426,
   "metadata": {},
   "outputs": [
    {
     "name": "stdout",
     "output_type": "stream",
     "text": [
      "<class 'pandas.core.frame.DataFrame'>\n",
      "RangeIndex: 3000 entries, 0 to 2999\n",
      "Data columns (total 23 columns):\n",
      " #   Column                 Non-Null Count  Dtype  \n",
      "---  ------                 --------------  -----  \n",
      " 0   id                     3000 non-null   int64  \n",
      " 1   belongs_to_collection  604 non-null    object \n",
      " 2   budget                 3000 non-null   int64  \n",
      " 3   genres                 2993 non-null   object \n",
      " 4   homepage               946 non-null    object \n",
      " 5   imdb_id                3000 non-null   object \n",
      " 6   original_language      3000 non-null   object \n",
      " 7   original_title         3000 non-null   object \n",
      " 8   overview               2992 non-null   object \n",
      " 9   popularity             3000 non-null   float64\n",
      " 10  poster_path            2999 non-null   object \n",
      " 11  production_companies   2844 non-null   object \n",
      " 12  production_countries   2945 non-null   object \n",
      " 13  release_date           3000 non-null   object \n",
      " 14  runtime                2998 non-null   float64\n",
      " 15  spoken_languages       2980 non-null   object \n",
      " 16  status                 3000 non-null   object \n",
      " 17  tagline                2403 non-null   object \n",
      " 18  title                  3000 non-null   object \n",
      " 19  Keywords               2724 non-null   object \n",
      " 20  cast                   2987 non-null   object \n",
      " 21  crew                   2984 non-null   object \n",
      " 22  revenue                3000 non-null   int64  \n",
      "dtypes: float64(2), int64(3), object(18)\n",
      "memory usage: 539.2+ KB\n"
     ]
    }
   ],
   "source": [
    "films.info()"
   ]
  },
  {
   "cell_type": "markdown",
   "metadata": {},
   "source": [
    "From this we see that there are 23 attributes of various type. Most of them are objects, but there are some ints and floats. We can also see that there are 3000 entries, which is a bit few for ML standards, and some of the attributes have fewer non null values. <br><br>\n",
    "From the table below we can see the count, mean, standard deviation as well as the minimun, 25%, 50%, 75% and max entry. (This is only done with the numerical attributes).<br>\n",
    "The id column is not important here."
   ]
  },
  {
   "cell_type": "code",
   "execution_count": 427,
   "metadata": {},
   "outputs": [
    {
     "data": {
      "text/html": [
       "<div>\n",
       "<style scoped>\n",
       "    .dataframe tbody tr th:only-of-type {\n",
       "        vertical-align: middle;\n",
       "    }\n",
       "\n",
       "    .dataframe tbody tr th {\n",
       "        vertical-align: top;\n",
       "    }\n",
       "\n",
       "    .dataframe thead th {\n",
       "        text-align: right;\n",
       "    }\n",
       "</style>\n",
       "<table border=\"1\" class=\"dataframe\">\n",
       "  <thead>\n",
       "    <tr style=\"text-align: right;\">\n",
       "      <th></th>\n",
       "      <th>id</th>\n",
       "      <th>budget</th>\n",
       "      <th>popularity</th>\n",
       "      <th>runtime</th>\n",
       "      <th>revenue</th>\n",
       "    </tr>\n",
       "  </thead>\n",
       "  <tbody>\n",
       "    <tr>\n",
       "      <th>count</th>\n",
       "      <td>3000.000000</td>\n",
       "      <td>3.000000e+03</td>\n",
       "      <td>3000.000000</td>\n",
       "      <td>2998.000000</td>\n",
       "      <td>3.000000e+03</td>\n",
       "    </tr>\n",
       "    <tr>\n",
       "      <th>mean</th>\n",
       "      <td>1500.500000</td>\n",
       "      <td>2.253133e+07</td>\n",
       "      <td>8.463274</td>\n",
       "      <td>107.856571</td>\n",
       "      <td>6.672585e+07</td>\n",
       "    </tr>\n",
       "    <tr>\n",
       "      <th>std</th>\n",
       "      <td>866.169729</td>\n",
       "      <td>3.702609e+07</td>\n",
       "      <td>12.104000</td>\n",
       "      <td>22.086434</td>\n",
       "      <td>1.375323e+08</td>\n",
       "    </tr>\n",
       "    <tr>\n",
       "      <th>min</th>\n",
       "      <td>1.000000</td>\n",
       "      <td>0.000000e+00</td>\n",
       "      <td>0.000001</td>\n",
       "      <td>0.000000</td>\n",
       "      <td>1.000000e+00</td>\n",
       "    </tr>\n",
       "    <tr>\n",
       "      <th>25%</th>\n",
       "      <td>750.750000</td>\n",
       "      <td>0.000000e+00</td>\n",
       "      <td>4.018053</td>\n",
       "      <td>94.000000</td>\n",
       "      <td>2.379808e+06</td>\n",
       "    </tr>\n",
       "    <tr>\n",
       "      <th>50%</th>\n",
       "      <td>1500.500000</td>\n",
       "      <td>8.000000e+06</td>\n",
       "      <td>7.374861</td>\n",
       "      <td>104.000000</td>\n",
       "      <td>1.680707e+07</td>\n",
       "    </tr>\n",
       "    <tr>\n",
       "      <th>75%</th>\n",
       "      <td>2250.250000</td>\n",
       "      <td>2.900000e+07</td>\n",
       "      <td>10.890983</td>\n",
       "      <td>118.000000</td>\n",
       "      <td>6.891920e+07</td>\n",
       "    </tr>\n",
       "    <tr>\n",
       "      <th>max</th>\n",
       "      <td>3000.000000</td>\n",
       "      <td>3.800000e+08</td>\n",
       "      <td>294.337037</td>\n",
       "      <td>338.000000</td>\n",
       "      <td>1.519558e+09</td>\n",
       "    </tr>\n",
       "  </tbody>\n",
       "</table>\n",
       "</div>"
      ],
      "text/plain": [
       "                id        budget   popularity      runtime       revenue\n",
       "count  3000.000000  3.000000e+03  3000.000000  2998.000000  3.000000e+03\n",
       "mean   1500.500000  2.253133e+07     8.463274   107.856571  6.672585e+07\n",
       "std     866.169729  3.702609e+07    12.104000    22.086434  1.375323e+08\n",
       "min       1.000000  0.000000e+00     0.000001     0.000000  1.000000e+00\n",
       "25%     750.750000  0.000000e+00     4.018053    94.000000  2.379808e+06\n",
       "50%    1500.500000  8.000000e+06     7.374861   104.000000  1.680707e+07\n",
       "75%    2250.250000  2.900000e+07    10.890983   118.000000  6.891920e+07\n",
       "max    3000.000000  3.800000e+08   294.337037   338.000000  1.519558e+09"
      ]
     },
     "execution_count": 427,
     "metadata": {},
     "output_type": "execute_result"
    }
   ],
   "source": [
    "films.describe()"
   ]
  },
  {
   "cell_type": "code",
   "execution_count": 428,
   "metadata": {},
   "outputs": [
    {
     "data": {
      "text/plain": [
       "id                          0\n",
       "belongs_to_collection    2396\n",
       "budget                      0\n",
       "genres                      7\n",
       "homepage                 2054\n",
       "imdb_id                     0\n",
       "original_language           0\n",
       "original_title              0\n",
       "overview                    8\n",
       "popularity                  0\n",
       "poster_path                 1\n",
       "production_companies      156\n",
       "production_countries       55\n",
       "release_date                0\n",
       "runtime                     2\n",
       "spoken_languages           20\n",
       "status                      0\n",
       "tagline                   597\n",
       "title                       0\n",
       "Keywords                  276\n",
       "cast                       13\n",
       "crew                       16\n",
       "revenue                     0\n",
       "dtype: int64"
      ]
     },
     "execution_count": 428,
     "metadata": {},
     "output_type": "execute_result"
    }
   ],
   "source": [
    "films.isna().sum()"
   ]
  },
  {
   "cell_type": "code",
   "execution_count": 429,
   "metadata": {},
   "outputs": [
    {
     "data": {
      "text/plain": [
       "id                          0\n",
       "belongs_to_collection    3521\n",
       "budget                      0\n",
       "genres                     16\n",
       "homepage                 2978\n",
       "imdb_id                     0\n",
       "original_language           0\n",
       "original_title              0\n",
       "overview                   14\n",
       "popularity                  0\n",
       "poster_path                 1\n",
       "production_companies      258\n",
       "production_countries      102\n",
       "release_date                1\n",
       "runtime                     4\n",
       "spoken_languages           42\n",
       "status                      2\n",
       "tagline                   863\n",
       "title                       3\n",
       "Keywords                  393\n",
       "cast                       13\n",
       "crew                       22\n",
       "dtype: int64"
      ]
     },
     "execution_count": 429,
     "metadata": {},
     "output_type": "execute_result"
    }
   ],
   "source": [
    "test.isna().sum()"
   ]
  },
  {
   "cell_type": "code",
   "execution_count": null,
   "metadata": {},
   "outputs": [],
   "source": []
  },
  {
   "cell_type": "code",
   "execution_count": 430,
   "metadata": {},
   "outputs": [],
   "source": [
    "target = films['revenue'].copy()"
   ]
  },
  {
   "cell_type": "markdown",
   "metadata": {},
   "source": [
    "We will drop some of the more unnecessary columns, such as id, homepage, imdb_id, overview, poster path, status and tagline."
   ]
  },
  {
   "cell_type": "code",
   "execution_count": 431,
   "metadata": {},
   "outputs": [],
   "source": [
    "dropping = ['id', 'homepage', 'imdb_id', 'overview', 'poster_path', 'status', 'tagline', 'title', 'original_title', 'Keywords']\n",
    "\n",
    "films = films.drop(dropping, axis=1)\n",
    "test = test.drop(dropping, axis=1)"
   ]
  },
  {
   "cell_type": "code",
   "execution_count": 432,
   "metadata": {},
   "outputs": [
    {
     "data": {
      "text/html": [
       "<div>\n",
       "<style scoped>\n",
       "    .dataframe tbody tr th:only-of-type {\n",
       "        vertical-align: middle;\n",
       "    }\n",
       "\n",
       "    .dataframe tbody tr th {\n",
       "        vertical-align: top;\n",
       "    }\n",
       "\n",
       "    .dataframe thead th {\n",
       "        text-align: right;\n",
       "    }\n",
       "</style>\n",
       "<table border=\"1\" class=\"dataframe\">\n",
       "  <thead>\n",
       "    <tr style=\"text-align: right;\">\n",
       "      <th></th>\n",
       "      <th>belongs_to_collection</th>\n",
       "      <th>budget</th>\n",
       "      <th>genres</th>\n",
       "      <th>original_language</th>\n",
       "      <th>popularity</th>\n",
       "      <th>production_companies</th>\n",
       "      <th>production_countries</th>\n",
       "      <th>release_date</th>\n",
       "      <th>runtime</th>\n",
       "      <th>spoken_languages</th>\n",
       "      <th>cast</th>\n",
       "      <th>crew</th>\n",
       "      <th>revenue</th>\n",
       "    </tr>\n",
       "  </thead>\n",
       "  <tbody>\n",
       "    <tr>\n",
       "      <th>0</th>\n",
       "      <td>[{'id': 313576, 'name': 'Hot Tub Time Machine ...</td>\n",
       "      <td>14000000</td>\n",
       "      <td>[{'id': 35, 'name': 'Comedy'}]</td>\n",
       "      <td>en</td>\n",
       "      <td>6.575393</td>\n",
       "      <td>[{'name': 'Paramount Pictures', 'id': 4}, {'na...</td>\n",
       "      <td>[{'iso_3166_1': 'US', 'name': 'United States o...</td>\n",
       "      <td>2/20/15</td>\n",
       "      <td>93.0</td>\n",
       "      <td>[{'iso_639_1': 'en', 'name': 'English'}]</td>\n",
       "      <td>[{'cast_id': 4, 'character': 'Lou', 'credit_id...</td>\n",
       "      <td>[{'credit_id': '59ac067c92514107af02c8c8', 'de...</td>\n",
       "      <td>12314651</td>\n",
       "    </tr>\n",
       "    <tr>\n",
       "      <th>1</th>\n",
       "      <td>[{'id': 107674, 'name': 'The Princess Diaries ...</td>\n",
       "      <td>40000000</td>\n",
       "      <td>[{'id': 35, 'name': 'Comedy'}, {'id': 18, 'nam...</td>\n",
       "      <td>en</td>\n",
       "      <td>8.248895</td>\n",
       "      <td>[{'name': 'Walt Disney Pictures', 'id': 2}]</td>\n",
       "      <td>[{'iso_3166_1': 'US', 'name': 'United States o...</td>\n",
       "      <td>8/6/04</td>\n",
       "      <td>113.0</td>\n",
       "      <td>[{'iso_639_1': 'en', 'name': 'English'}]</td>\n",
       "      <td>[{'cast_id': 1, 'character': 'Mia Thermopolis'...</td>\n",
       "      <td>[{'credit_id': '52fe43fe9251416c7502563d', 'de...</td>\n",
       "      <td>95149435</td>\n",
       "    </tr>\n",
       "    <tr>\n",
       "      <th>2</th>\n",
       "      <td>NaN</td>\n",
       "      <td>3300000</td>\n",
       "      <td>[{'id': 18, 'name': 'Drama'}]</td>\n",
       "      <td>en</td>\n",
       "      <td>64.299990</td>\n",
       "      <td>[{'name': 'Bold Films', 'id': 2266}, {'name': ...</td>\n",
       "      <td>[{'iso_3166_1': 'US', 'name': 'United States o...</td>\n",
       "      <td>10/10/14</td>\n",
       "      <td>105.0</td>\n",
       "      <td>[{'iso_639_1': 'en', 'name': 'English'}]</td>\n",
       "      <td>[{'cast_id': 5, 'character': 'Andrew Neimann',...</td>\n",
       "      <td>[{'credit_id': '54d5356ec3a3683ba0000039', 'de...</td>\n",
       "      <td>13092000</td>\n",
       "    </tr>\n",
       "    <tr>\n",
       "      <th>3</th>\n",
       "      <td>NaN</td>\n",
       "      <td>1200000</td>\n",
       "      <td>[{'id': 53, 'name': 'Thriller'}, {'id': 18, 'n...</td>\n",
       "      <td>hi</td>\n",
       "      <td>3.174936</td>\n",
       "      <td>NaN</td>\n",
       "      <td>[{'iso_3166_1': 'IN', 'name': 'India'}]</td>\n",
       "      <td>3/9/12</td>\n",
       "      <td>122.0</td>\n",
       "      <td>[{'iso_639_1': 'en', 'name': 'English'}, {'iso...</td>\n",
       "      <td>[{'cast_id': 1, 'character': 'Vidya Bagchi', '...</td>\n",
       "      <td>[{'credit_id': '52fe48779251416c9108d6eb', 'de...</td>\n",
       "      <td>16000000</td>\n",
       "    </tr>\n",
       "    <tr>\n",
       "      <th>4</th>\n",
       "      <td>NaN</td>\n",
       "      <td>0</td>\n",
       "      <td>[{'id': 28, 'name': 'Action'}, {'id': 53, 'nam...</td>\n",
       "      <td>ko</td>\n",
       "      <td>1.148070</td>\n",
       "      <td>NaN</td>\n",
       "      <td>[{'iso_3166_1': 'KR', 'name': 'South Korea'}]</td>\n",
       "      <td>2/5/09</td>\n",
       "      <td>118.0</td>\n",
       "      <td>[{'iso_639_1': 'ko', 'name': '한국어/조선말'}]</td>\n",
       "      <td>[{'cast_id': 3, 'character': 'Chun-soo', 'cred...</td>\n",
       "      <td>[{'credit_id': '52fe464b9251416c75073b43', 'de...</td>\n",
       "      <td>3923970</td>\n",
       "    </tr>\n",
       "  </tbody>\n",
       "</table>\n",
       "</div>"
      ],
      "text/plain": [
       "                               belongs_to_collection    budget  \\\n",
       "0  [{'id': 313576, 'name': 'Hot Tub Time Machine ...  14000000   \n",
       "1  [{'id': 107674, 'name': 'The Princess Diaries ...  40000000   \n",
       "2                                                NaN   3300000   \n",
       "3                                                NaN   1200000   \n",
       "4                                                NaN         0   \n",
       "\n",
       "                                              genres original_language  \\\n",
       "0                     [{'id': 35, 'name': 'Comedy'}]                en   \n",
       "1  [{'id': 35, 'name': 'Comedy'}, {'id': 18, 'nam...                en   \n",
       "2                      [{'id': 18, 'name': 'Drama'}]                en   \n",
       "3  [{'id': 53, 'name': 'Thriller'}, {'id': 18, 'n...                hi   \n",
       "4  [{'id': 28, 'name': 'Action'}, {'id': 53, 'nam...                ko   \n",
       "\n",
       "   popularity                               production_companies  \\\n",
       "0    6.575393  [{'name': 'Paramount Pictures', 'id': 4}, {'na...   \n",
       "1    8.248895        [{'name': 'Walt Disney Pictures', 'id': 2}]   \n",
       "2   64.299990  [{'name': 'Bold Films', 'id': 2266}, {'name': ...   \n",
       "3    3.174936                                                NaN   \n",
       "4    1.148070                                                NaN   \n",
       "\n",
       "                                production_countries release_date  runtime  \\\n",
       "0  [{'iso_3166_1': 'US', 'name': 'United States o...      2/20/15     93.0   \n",
       "1  [{'iso_3166_1': 'US', 'name': 'United States o...       8/6/04    113.0   \n",
       "2  [{'iso_3166_1': 'US', 'name': 'United States o...     10/10/14    105.0   \n",
       "3            [{'iso_3166_1': 'IN', 'name': 'India'}]       3/9/12    122.0   \n",
       "4      [{'iso_3166_1': 'KR', 'name': 'South Korea'}]       2/5/09    118.0   \n",
       "\n",
       "                                    spoken_languages  \\\n",
       "0           [{'iso_639_1': 'en', 'name': 'English'}]   \n",
       "1           [{'iso_639_1': 'en', 'name': 'English'}]   \n",
       "2           [{'iso_639_1': 'en', 'name': 'English'}]   \n",
       "3  [{'iso_639_1': 'en', 'name': 'English'}, {'iso...   \n",
       "4           [{'iso_639_1': 'ko', 'name': '한국어/조선말'}]   \n",
       "\n",
       "                                                cast  \\\n",
       "0  [{'cast_id': 4, 'character': 'Lou', 'credit_id...   \n",
       "1  [{'cast_id': 1, 'character': 'Mia Thermopolis'...   \n",
       "2  [{'cast_id': 5, 'character': 'Andrew Neimann',...   \n",
       "3  [{'cast_id': 1, 'character': 'Vidya Bagchi', '...   \n",
       "4  [{'cast_id': 3, 'character': 'Chun-soo', 'cred...   \n",
       "\n",
       "                                                crew   revenue  \n",
       "0  [{'credit_id': '59ac067c92514107af02c8c8', 'de...  12314651  \n",
       "1  [{'credit_id': '52fe43fe9251416c7502563d', 'de...  95149435  \n",
       "2  [{'credit_id': '54d5356ec3a3683ba0000039', 'de...  13092000  \n",
       "3  [{'credit_id': '52fe48779251416c9108d6eb', 'de...  16000000  \n",
       "4  [{'credit_id': '52fe464b9251416c75073b43', 'de...   3923970  "
      ]
     },
     "execution_count": 432,
     "metadata": {},
     "output_type": "execute_result"
    }
   ],
   "source": [
    "films.head()"
   ]
  },
  {
   "cell_type": "code",
   "execution_count": 433,
   "metadata": {},
   "outputs": [
    {
     "data": {
      "image/png": "[encoded data removed]",
      "text/plain": [
       "<Figure size 1440x1080 with 4 Axes>"
      ]
     },
     "metadata": {
      "needs_background": "light"
     },
     "output_type": "display_data"
    }
   ],
   "source": [
    "films.hist(bins=50, figsize=(20,15))\n",
    "plt.show()"
   ]
  },
  {
   "cell_type": "markdown",
   "metadata": {},
   "source": [
    "We see that both the revenue and budget is very skewed. So lets look at the log of the revenue"
   ]
  },
  {
   "cell_type": "code",
   "execution_count": 434,
   "metadata": {},
   "outputs": [
    {
     "data": {
      "image/png": "[encoded data removed]",
      "text/plain": [
       "<Figure size 432x288 with 1 Axes>"
      ]
     },
     "metadata": {
      "needs_background": "light"
     },
     "output_type": "display_data"
    }
   ],
   "source": [
    "plt.hist(np.log1p(films['revenue']))\n",
    "plt.show()"
   ]
  },
  {
   "cell_type": "markdown",
   "metadata": {},
   "source": [
    "Lets look closer at the budget vs revenue"
   ]
  },
  {
   "cell_type": "code",
   "execution_count": 435,
   "metadata": {},
   "outputs": [
    {
     "data": {
      "image/png": "[encoded data removed]",
      "text/plain": [
       "<Figure size 1080x504 with 2 Axes>"
      ]
     },
     "metadata": {
      "needs_background": "light"
     },
     "output_type": "display_data"
    }
   ],
   "source": [
    "plt.figure(figsize=(15,7))\n",
    "plt.subplot(1, 2, 1)\n",
    "plt.scatter(films['budget'], films['revenue'])\n",
    "plt.title('Budget vs Revenue')\n",
    "plt.subplot(1, 2, 2)\n",
    "plt.scatter(np.log1p(films['budget']), np.log1p(films['revenue']))\n",
    "plt.title('Log budget vs Log Revenue')\n",
    "plt.show()"
   ]
  },
  {
   "cell_type": "code",
   "execution_count": 436,
   "metadata": {},
   "outputs": [
    {
     "data": {
      "image/png": "[encoded data removed]",
      "text/plain": [
       "<Figure size 1080x504 with 2 Axes>"
      ]
     },
     "metadata": {
      "needs_background": "light"
     },
     "output_type": "display_data"
    }
   ],
   "source": [
    "plt.figure(figsize=(15,7))\n",
    "plt.subplot(1, 2, 1)\n",
    "plt.scatter(films['popularity'], films['revenue'])\n",
    "plt.title('Popularity vs Revenue')\n",
    "plt.xlabel('Popularity')\n",
    "plt.ylabel('Revenue')\n",
    "plt.subplot(1, 2, 2)\n",
    "plt.scatter(np.log1p(films['popularity']), np.log1p(films['revenue']))\n",
    "plt.title('log Popularity vs log Revenue')\n",
    "plt.xlabel('Popularity')\n",
    "plt.ylabel('Revenue')\n",
    "plt.show()"
   ]
  },
  {
   "cell_type": "code",
   "execution_count": null,
   "metadata": {},
   "outputs": [],
   "source": []
  },
  {
   "cell_type": "markdown",
   "metadata": {},
   "source": [
    "### Looking at the dictionaries"
   ]
  },
  {
   "cell_type": "markdown",
   "metadata": {},
   "source": [
    "#### Belongs_to_collection"
   ]
  },
  {
   "cell_type": "markdown",
   "metadata": {},
   "source": [
    "The first column with dictionaries is the belongs_to_collection column. Not all instances will have a non null value here, from the table above we see that only 604 have."
   ]
  },
  {
   "cell_type": "code",
   "execution_count": 437,
   "metadata": {},
   "outputs": [
    {
     "name": "stdout",
     "output_type": "stream",
     "text": [
      "0    [{'id': 313576, 'name': 'Hot Tub Time Machine ...\n",
      "1    [{'id': 107674, 'name': 'The Princess Diaries ...\n",
      "2                                                  NaN\n",
      "3                                                  NaN\n",
      "4                                                  NaN\n",
      "Name: belongs_to_collection, dtype: object\n"
     ]
    }
   ],
   "source": [
    "print(films['belongs_to_collection'][0:5])"
   ]
  },
  {
   "cell_type": "markdown",
   "metadata": {},
   "source": [
    "The most interesting thing from the belongs_to_collection may be if the movie is in a series."
   ]
  },
  {
   "cell_type": "code",
   "execution_count": 438,
   "metadata": {},
   "outputs": [],
   "source": [
    "films['has_collection'] = np.where(pd.notnull(films['belongs_to_collection']), 1, 0)\n",
    "test['has_collection'] = np.where(pd.notnull(test['belongs_to_collection']), 1, 0)\n",
    "\n",
    "films = films.drop(['belongs_to_collection'], axis=1) \n",
    "test = test.drop(['belongs_to_collection'], axis=1) "
   ]
  },
  {
   "cell_type": "code",
   "execution_count": 439,
   "metadata": {},
   "outputs": [
    {
     "data": {
      "text/plain": [
       "0    1\n",
       "1    1\n",
       "2    0\n",
       "3    0\n",
       "4    0\n",
       "Name: has_collection, dtype: int32"
      ]
     },
     "execution_count": 439,
     "metadata": {},
     "output_type": "execute_result"
    }
   ],
   "source": [
    "films['has_collection'][:5]"
   ]
  },
  {
   "cell_type": "markdown",
   "metadata": {},
   "source": [
    "#### Genre "
   ]
  },
  {
   "cell_type": "code",
   "execution_count": 440,
   "metadata": {},
   "outputs": [],
   "source": [
    "films['genres'] = films['genres'].apply(lambda x: list(map(lambda d: list(d.values())[1], ast.literal_eval(x)) if isinstance(x, str) else ['None']))\n",
    "test['genres'] = test['genres'].apply(lambda x: list(map(lambda d: list(d.values())[1], ast.literal_eval(x)) if isinstance(x, str) else ['None']))"
   ]
  },
  {
   "cell_type": "code",
   "execution_count": 441,
   "metadata": {},
   "outputs": [
    {
     "data": {
      "text/plain": [
       "0                            [Comedy]\n",
       "1    [Comedy, Drama, Family, Romance]\n",
       "2                             [Drama]\n",
       "3                   [Thriller, Drama]\n",
       "4                  [Action, Thriller]\n",
       "Name: genres, dtype: object"
      ]
     },
     "execution_count": 441,
     "metadata": {},
     "output_type": "execute_result"
    }
   ],
   "source": [
    "films['genres'].head(5)"
   ]
  },
  {
   "cell_type": "code",
   "execution_count": 442,
   "metadata": {},
   "outputs": [
    {
     "data": {
      "text/plain": [
       "0    1\n",
       "1    4\n",
       "2    1\n",
       "3    2\n",
       "4    2\n",
       "Name: num_genres, dtype: int64"
      ]
     },
     "execution_count": 442,
     "metadata": {},
     "output_type": "execute_result"
    }
   ],
   "source": [
    "films['num_genres'] = films['genres'].apply(lambda x: len(x) if x != {} else 0)\n",
    "test['num_genres'] = test['genres'].apply(lambda x: len(x) if x != {} else 0)\n",
    "films['num_genres'].head()    "
   ]
  },
  {
   "cell_type": "code",
   "execution_count": 443,
   "metadata": {},
   "outputs": [
    {
     "data": {
      "image/png": "[encoded data removed]",
      "text/plain": [
       "<Figure size 1440x1080 with 1 Axes>"
      ]
     },
     "metadata": {
      "needs_background": "light"
     },
     "output_type": "display_data"
    }
   ],
   "source": [
    "films['num_genres'].hist(bins=20, figsize=(20,15))\n",
    "plt.show()"
   ]
  },
  {
   "cell_type": "code",
   "execution_count": 444,
   "metadata": {},
   "outputs": [
    {
     "data": {
      "text/plain": [
       "2    972\n",
       "3    900\n",
       "1    600\n",
       "4    393\n",
       "5    111\n",
       "6     21\n",
       "7      3\n",
       "Name: num_genres, dtype: int64"
      ]
     },
     "execution_count": 444,
     "metadata": {},
     "output_type": "execute_result"
    }
   ],
   "source": [
    "films['num_genres'].value_counts()"
   ]
  },
  {
   "cell_type": "markdown",
   "metadata": {},
   "source": [
    "#### Cast"
   ]
  },
  {
   "cell_type": "code",
   "execution_count": 445,
   "metadata": {},
   "outputs": [
    {
     "data": {
      "text/plain": [
       "'[{\\'cast_id\\': 1, \\'character\\': \\'Mia Thermopolis\\', \\'credit_id\\': \\'52fe43fe9251416c7502561f\\', \\'gender\\': 1, \\'id\\': 1813, \\'name\\': \\'Anne Hathaway\\', \\'order\\': 0, \\'profile_path\\': \\'/jUMOKwSUBnTcMeN1HfhutiY49Ad.jpg\\'}, {\\'cast_id\\': 2, \\'character\\': \\'Queen Clarisse Renaldi\\', \\'credit_id\\': \\'52fe43fe9251416c75025623\\', \\'gender\\': 1, \\'id\\': 5823, \\'name\\': \\'Julie Andrews\\', \\'order\\': 1, \\'profile_path\\': \\'/6t61jkmfSA6nbYRCKR9s97CgUN6.jpg\\'}, {\\'cast_id\\': 3, \\'character\\': \\'Joe\\', \\'credit_id\\': \\'52fe43fe9251416c75025627\\', \\'gender\\': 2, \\'id\\': 1210, \\'name\\': \\'H√©ctor Elizondo\\', \\'order\\': 2, \\'profile_path\\': \\'/48UNfVFZVr0jyMIlLPhzm8IIM7f.jpg\\'}, {\\'cast_id\\': 4, \\'character\\': \\'Viscount Mabrey\\', \\'credit_id\\': \\'52fe43fe9251416c7502562b\\', \\'gender\\': 2, \\'id\\': 655, \\'name\\': \\'John Rhys-Davies\\', \\'order\\': 3, \\'profile_path\\': \\'/zZ67PuoFfik9QlZyfaEsFBC1yVJ.jpg\\'}, {\\'cast_id\\': 5, \\'character\\': \\'Lilly Moscovitz\\', \\'credit_id\\': \\'52fe43fe9251416c7502562f\\', \\'gender\\': 1, \\'id\\': 33656, \\'name\\': \\'Heather Matarazzo\\', \\'order\\': 4, \\'profile_path\\': \\'/xcwR8aPuSkUCDPIyKU049M1CXph.jpg\\'}, {\\'cast_id\\': 6, \\'character\\': \\'Nicholas Devereaux\\', \\'credit_id\\': \\'52fe43fe9251416c75025633\\', \\'gender\\': 2, \\'id\\': 62064, \\'name\\': \\'Chris Pine\\', \\'order\\': 5, \\'profile_path\\': \\'/vSe6sIsdtcoqBhuWRXynahFg8Vf.jpg\\'}, {\\'cast_id\\': 7, \\'character\\': \\'Andrew Jacoby\\', \\'credit_id\\': \\'52fe43fe9251416c75025637\\', \\'gender\\': 2, \\'id\\': 68287, \\'name\\': \\'Callum Blue\\', \\'order\\': 6, \\'profile_path\\': \\'/3qf8rLoWmXOcCA8Rs9RPIEQ9yLB.jpg\\'}, {\\'cast_id\\': 17, \\'character\\': \\'Paolo\\', \\'credit_id\\': \\'52fe43fe9251416c75025671\\', \\'gender\\': 2, \\'id\\': 1211, \\'name\\': \\'Larry Miller\\', \\'order\\': 7, \\'profile_path\\': \\'/xA8zCxNrwtamLaLWNBkLyX5tGtU.jpg\\'}, {\\'cast_id\\': 18, \\'character\\': \\'Asana\\', \\'credit_id\\': \\'52fe43fe9251416c75025675\\', \\'gender\\': 1, \\'id\\': 66896, \\'name\\': \\'Raven-Symon√©\\', \\'order\\': 8, \\'profile_path\\': \\'/nzklI9bgqsUKVWlnQcT5lSrCyaM.jpg\\'}, {\\'cast_id\\': 19, \\'character\\': \\'Charlotte Kutaway\\', \\'credit_id\\': \\'52fe43fe9251416c75025679\\', \\'gender\\': 1, \\'id\\': 303542, \\'name\\': \\'Kathleen Marshall\\', \\'order\\': 9, \\'profile_path\\': \\'/4ANxOHPa81aqLyP8BQxkwmZrWgK.jpg\\'}, {\\'cast_id\\': 21, \\'character\\': \"Mia\\'s Mom Helen\", \\'credit_id\\': \\'5687f876c3a3685f8900e2a1\\', \\'gender\\': 1, \\'id\\': 6692, \\'name\\': \\'Caroline Goodall\\', \\'order\\': 10, \\'profile_path\\': \\'/f3L5WmEtGjjONTe8qvBZOy2dWTJ.jpg\\'}, {\\'cast_id\\': 20, \\'character\\': \\'Princess Lorraine\\', \\'credit_id\\': \\'5687f825c3a36860e9023861\\', \\'gender\\': 1, \\'id\\': 966053, \\'name\\': \\'Lorraine Nicholson\\', \\'order\\': 11, \\'profile_path\\': \\'/eCsoySifBALa6UecWWQ6XShkkeV.jpg\\'}, {\\'cast_id\\': 22, \\'character\\': \\'Lady Salsa\\', \\'credit_id\\': \\'56b67fc4c3a3680700009953\\', \\'gender\\': 1, \\'id\\': 95469, \\'name\\': \\'Shannon Wilcox\\', \\'order\\': 12, \\'profile_path\\': \\'/dQTvcWdLyB5RIWNQxk4DWn6ko59.jpg\\'}, {\\'cast_id\\': 23, \\'character\\': \\'Baron Siegfried von Troken\\', \\'credit_id\\': \\'56c0ad8cc3a36817f400cc2d\\', \\'gender\\': 2, \\'id\\': 33832, \\'name\\': \\'Greg Lewis\\', \\'order\\': 13, \\'profile_path\\': \\'/ys6erqERBQhfTsvCiarmwH8daUm.jpg\\'}, {\\'cast_id\\': 24, \\'character\\': \\'Carolina\\', \\'credit_id\\': \\'575e0b469251415dd2004e97\\', \\'gender\\': 1, \\'id\\': 17140, \\'name\\': \\'Abigail Breslin\\', \\'order\\': 14, \\'profile_path\\': \\'/5zM4beIvrFKICiJXhQCqY3ORngR.jpg\\'}, {\\'cast_id\\': 25, \\'character\\': \\'Lord Crawley\\', \\'credit_id\\': \\'575e0bc1c3a3683731002094\\', \\'gender\\': 2, \\'id\\': 155403, \\'name\\': \\'Paul Vogt\\', \\'order\\': 15, \\'profile_path\\': None}, {\\'cast_id\\': 26, \\'character\\': \\'Monsieur Dupont\\', \\'credit_id\\': \\'57c8cc429251410d5000019d\\', \\'gender\\': 2, \\'id\\': 1665036, \\'name\\': \\'Joseph Leo Bwarie\\', \\'order\\': 16, \\'profile_path\\': \\'/9H8u70pOBdk0xZsRcKIleBEAyLK.jpg\\'}, {\\'cast_id\\': 27, \\'character\\': \\'Lady Caroline\\', \\'credit_id\\': \\'57dd9a1092514178550018e1\\', \\'gender\\': 1, \\'id\\': 83053, \\'name\\': \\'Hope Alexander-Willis\\', \\'order\\': 17, \\'profile_path\\': \\'/uMA3E1OUniek80LNbqf8ejK2edW.jpg\\'}, {\\'cast_id\\': 28, \\'character\\': \\'Lord Peroit\\', \\'credit_id\\': \\'57eecf689251416cd60095c1\\', \\'gender\\': 2, \\'id\\': 1451161, \\'name\\': \\'Rowan Joseph\\', \\'order\\': 18, \\'profile_path\\': \\'/6zUforjrDfcPoP8YMsdIaoygHmz.jpg\\'}, {\\'cast_id\\': 29, \\'character\\': \\'Genovian Cafe Owner\\', \\'credit_id\\': \\'57eed0ff9251415ddb00752b\\', \\'gender\\': 2, \\'id\\': 156005, \\'name\\': \\'Jeffrey Scott Jensen\\', \\'order\\': 19, \\'profile_path\\': \\'/mW0EwKomK5u3WSmkL60V2HWLhCu.jpg\\'}]'"
      ]
     },
     "execution_count": 445,
     "metadata": {},
     "output_type": "execute_result"
    }
   ],
   "source": [
    "films['cast'][1]"
   ]
  },
  {
   "cell_type": "markdown",
   "metadata": {},
   "source": [
    "The most interresting with the cast is the names of the actors."
   ]
  },
  {
   "cell_type": "code",
   "execution_count": 446,
   "metadata": {},
   "outputs": [],
   "source": [
    "films['cast'] = films['cast'].apply(lambda x: list(map(lambda d: list(d.values())[5], ast.literal_eval(x)) if isinstance(x, str) else ['None']))\n",
    "test['cast'] = test['cast'].apply(lambda x: list(map(lambda d: list(d.values())[5], ast.literal_eval(x)) if isinstance(x, str) else ['None']))"
   ]
  },
  {
   "cell_type": "code",
   "execution_count": 447,
   "metadata": {},
   "outputs": [
    {
     "data": {
      "text/plain": [
       "0    [Rob Corddry, Craig Robinson, Clark Duke, Adam...\n",
       "1    [Anne Hathaway, Julie Andrews, H√©ctor Elizond...\n",
       "2    [Miles Teller, J.K. Simmons, Melissa Benoist, ...\n",
       "3    [Vidya Balan, Nawazuddin Siddiqui, Parambrata ...\n",
       "4    [Kim Kang-woo, Jo Jae-hyeon, Park Si-yeon, Kim...\n",
       "Name: cast, dtype: object"
      ]
     },
     "execution_count": 447,
     "metadata": {},
     "output_type": "execute_result"
    }
   ],
   "source": [
    "films['cast'].head()"
   ]
  },
  {
   "cell_type": "code",
   "execution_count": 448,
   "metadata": {},
   "outputs": [
    {
     "data": {
      "text/plain": [
       "15     212\n",
       "16     165\n",
       "10     135\n",
       "13     129\n",
       "12     124\n",
       "      ... \n",
       "90       1\n",
       "88       1\n",
       "84       1\n",
       "82       1\n",
       "134      1\n",
       "Name: cast, Length: 109, dtype: int64"
      ]
     },
     "execution_count": 448,
     "metadata": {},
     "output_type": "execute_result"
    }
   ],
   "source": [
    "films['cast'].apply(lambda x: len(x) if x != {} else 0).value_counts()"
   ]
  },
  {
   "cell_type": "markdown",
   "metadata": {},
   "source": [
    "#### Crew"
   ]
  },
  {
   "cell_type": "code",
   "execution_count": 449,
   "metadata": {},
   "outputs": [
    {
     "data": {
      "text/plain": [
       "\"[{'credit_id': '52fe43fe9251416c7502563d', 'department': 'Directing', 'gender': 2, 'id': 1201, 'job': 'Director', 'name': 'Garry Marshall', 'profile_path': '/kx77E8p5rnEmKxIhFT0qWCEMEik.jpg'}, {'credit_id': '52fe43fe9251416c75025667', 'department': 'Camera', 'gender': 2, 'id': 1214, 'job': 'Director of Photography', 'name': 'Charles Minsky', 'profile_path': None}, {'credit_id': '52fe43fe9251416c75025661', 'department': 'Sound', 'gender': 2, 'id': 4500, 'job': 'Original Music Composer', 'name': 'John Debney', 'profile_path': '/hTrlvZlDXQk49nfc2BM9sjKfJv.jpg'}, {'credit_id': '52fe43fe9251416c7502564f', 'department': 'Production', 'gender': 1, 'id': 8851, 'job': 'Producer', 'name': 'Whitney Houston', 'profile_path': '/69ouDnXnmklYPr4sMJXWKYz81AL.jpg'}, {'credit_id': '52fe43fe9251416c7502566d', 'department': 'Editing', 'gender': 0, 'id': 12970, 'job': 'Editor', 'name': 'Bruce Green', 'profile_path': '/yplxWPVgwK1b33AjvbhM9mWX2Aw.jpg'}, {'credit_id': '52fe43fe9251416c75025655', 'department': 'Production', 'gender': 2, 'id': 38415, 'job': 'Producer', 'name': 'Mario Iscovich', 'profile_path': None}, {'credit_id': '52fe43fe9251416c7502565b', 'department': 'Production', 'gender': 1, 'id': 38416, 'job': 'Executive Producer', 'name': 'Ellen H. Schwartz', 'profile_path': '/6WInjABr1sAYGXaa5qOvSrsHIqP.jpg'}, {'credit_id': '52fe43fe9251416c75025649', 'department': 'Production', 'gender': 1, 'id': 59973, 'job': 'Producer', 'name': 'Debra Martin Chase', 'profile_path': None}, {'credit_id': '52fe43fe9251416c75025643', 'department': 'Writing', 'gender': 1, 'id': 25539, 'job': 'Screenplay', 'name': 'Shonda Rhimes', 'profile_path': '/4c77e347InbTAlw9lGvORpZBHV6.jpg'}]\""
      ]
     },
     "execution_count": 449,
     "metadata": {},
     "output_type": "execute_result"
    }
   ],
   "source": [
    "films['crew'][1]"
   ]
  },
  {
   "cell_type": "code",
   "execution_count": 450,
   "metadata": {},
   "outputs": [],
   "source": [
    "films['crew'] = films['crew'].apply(lambda x: list(map(lambda d: list(d.values())[5], ast.literal_eval(x)) if isinstance(x, str) else ['None']))\n",
    "test['crew'] = test['crew'].apply(lambda x: list(map(lambda d: list(d.values())[5], ast.literal_eval(x)) if isinstance(x, str) else ['None']))"
   ]
  },
  {
   "cell_type": "code",
   "execution_count": 451,
   "metadata": {},
   "outputs": [
    {
     "data": {
      "text/plain": [
       "0    [Kelly Cantley, Steve Pink, Josh Heald, Josh H...\n",
       "1    [Garry Marshall, Charles Minsky, John Debney, ...\n",
       "2    [Terri Taylor, Richard Henderson, Jeffrey Stot...\n",
       "3              [Sujoy Ghosh, Sujoy Ghosh, Sujoy Ghosh]\n",
       "4                     [Jong-seok Yoon, Jong-seok Yoon]\n",
       "Name: crew, dtype: object"
      ]
     },
     "execution_count": 451,
     "metadata": {},
     "output_type": "execute_result"
    }
   ],
   "source": [
    "films['crew'].head()"
   ]
  },
  {
   "cell_type": "markdown",
   "metadata": {},
   "source": [
    "#### Original language"
   ]
  },
  {
   "cell_type": "code",
   "execution_count": 452,
   "metadata": {},
   "outputs": [
    {
     "data": {
      "text/plain": [
       "0    en\n",
       "1    en\n",
       "2    en\n",
       "3    hi\n",
       "4    ko\n",
       "Name: original_language, dtype: object"
      ]
     },
     "execution_count": 452,
     "metadata": {},
     "output_type": "execute_result"
    }
   ],
   "source": [
    "films['original_language'].head()"
   ]
  },
  {
   "cell_type": "markdown",
   "metadata": {},
   "source": [
    "#### Production companies"
   ]
  },
  {
   "cell_type": "markdown",
   "metadata": {},
   "source": [
    "Here the name of the production companies is the most important, and maybe the number of companies in one movie."
   ]
  },
  {
   "cell_type": "code",
   "execution_count": 453,
   "metadata": {},
   "outputs": [
    {
     "data": {
      "text/plain": [
       "0    [{'name': 'Paramount Pictures', 'id': 4}, {'na...\n",
       "1          [{'name': 'Walt Disney Pictures', 'id': 2}]\n",
       "2    [{'name': 'Bold Films', 'id': 2266}, {'name': ...\n",
       "3                                                  NaN\n",
       "4                                                  NaN\n",
       "Name: production_companies, dtype: object"
      ]
     },
     "execution_count": 453,
     "metadata": {},
     "output_type": "execute_result"
    }
   ],
   "source": [
    "films['production_companies'].head()"
   ]
  },
  {
   "cell_type": "code",
   "execution_count": 454,
   "metadata": {},
   "outputs": [],
   "source": [
    "films['production_companies'] = films['production_companies'].apply(lambda x: list(map(lambda d: list(d.values())[0], ast.literal_eval(x)) if isinstance(x, str) else ['None']))\n",
    "test['production_companies'] = test['production_companies'].apply(lambda x: list(map(lambda d: list(d.values())[0], ast.literal_eval(x)) if isinstance(x, str) else ['None']))"
   ]
  },
  {
   "cell_type": "code",
   "execution_count": 455,
   "metadata": {},
   "outputs": [
    {
     "data": {
      "text/plain": [
       "0    [Paramount Pictures, United Artists, Metro-Gol...\n",
       "1                               [Walt Disney Pictures]\n",
       "2    [Bold Films, Blumhouse Productions, Right of W...\n",
       "3                                               [None]\n",
       "4                                               [None]\n",
       "Name: production_companies, dtype: object"
      ]
     },
     "execution_count": 455,
     "metadata": {},
     "output_type": "execute_result"
    }
   ],
   "source": [
    "films['production_companies'].head()"
   ]
  },
  {
   "cell_type": "code",
   "execution_count": 456,
   "metadata": {},
   "outputs": [
    {
     "data": {
      "text/plain": [
       "1     931\n",
       "2     734\n",
       "3     582\n",
       "4     312\n",
       "5     166\n",
       "6     118\n",
       "7      62\n",
       "8      42\n",
       "9      29\n",
       "11      7\n",
       "10      7\n",
       "12      3\n",
       "15      2\n",
       "16      2\n",
       "13      1\n",
       "14      1\n",
       "17      1\n",
       "Name: production_companies, dtype: int64"
      ]
     },
     "execution_count": 456,
     "metadata": {},
     "output_type": "execute_result"
    }
   ],
   "source": [
    "films['production_companies'].apply(lambda x: len(x) if x != [] else 0).value_counts()"
   ]
  },
  {
   "cell_type": "markdown",
   "metadata": {},
   "source": [
    "Most of the movies have 1 or 2 production companies, but there are also some that have none."
   ]
  },
  {
   "cell_type": "code",
   "execution_count": 457,
   "metadata": {},
   "outputs": [
    {
     "data": {
      "text/plain": [
       "[('Warner Bros.', 202),\n",
       " ('Universal Pictures', 188),\n",
       " ('Paramount Pictures', 161),\n",
       " ('None', 156),\n",
       " ('Twentieth Century Fox Film Corporation', 138),\n",
       " ('Columbia Pictures', 91),\n",
       " ('Metro-Goldwyn-Mayer (MGM)', 84),\n",
       " ('New Line Cinema', 75),\n",
       " ('Touchstone Pictures', 63),\n",
       " ('Walt Disney Pictures', 62),\n",
       " ('Columbia Pictures Corporation', 61),\n",
       " ('TriStar Pictures', 53),\n",
       " ('Relativity Media', 48),\n",
       " ('Canal+', 46),\n",
       " ('United Artists', 44),\n",
       " ('Miramax Films', 40),\n",
       " ('Village Roadshow Pictures', 36),\n",
       " ('Regency Enterprises', 31),\n",
       " ('BBC Films', 30),\n",
       " ('Dune Entertainment', 30),\n",
       " ('Working Title Films', 30),\n",
       " ('Fox Searchlight Pictures', 29),\n",
       " ('StudioCanal', 28),\n",
       " ('Lionsgate', 28),\n",
       " ('DreamWorks SKG', 27),\n",
       " ('Fox 2000 Pictures', 25),\n",
       " ('Summit Entertainment', 24),\n",
       " ('Hollywood Pictures', 24),\n",
       " ('Orion Pictures', 24),\n",
       " ('Amblin Entertainment', 23)]"
      ]
     },
     "execution_count": 457,
     "metadata": {},
     "output_type": "execute_result"
    }
   ],
   "source": [
    "from collections import Counter\n",
    "Counter([i for j in films['production_companies'] for i in j]).most_common(30)"
   ]
  },
  {
   "cell_type": "markdown",
   "metadata": {},
   "source": [
    "#### Production countries"
   ]
  },
  {
   "cell_type": "code",
   "execution_count": 458,
   "metadata": {},
   "outputs": [
    {
     "data": {
      "text/plain": [
       "0    [{'iso_3166_1': 'US', 'name': 'United States o...\n",
       "1    [{'iso_3166_1': 'US', 'name': 'United States o...\n",
       "2    [{'iso_3166_1': 'US', 'name': 'United States o...\n",
       "3              [{'iso_3166_1': 'IN', 'name': 'India'}]\n",
       "4        [{'iso_3166_1': 'KR', 'name': 'South Korea'}]\n",
       "Name: production_countries, dtype: object"
      ]
     },
     "execution_count": 458,
     "metadata": {},
     "output_type": "execute_result"
    }
   ],
   "source": [
    "films['production_countries'].head()"
   ]
  },
  {
   "cell_type": "markdown",
   "metadata": {},
   "source": [
    "Again, we only want the name of the contry."
   ]
  },
  {
   "cell_type": "code",
   "execution_count": 459,
   "metadata": {},
   "outputs": [],
   "source": [
    "films['production_countries'] = films['production_countries'].apply(lambda x: list(map(lambda d: list(d.values())[1], ast.literal_eval(x)) if isinstance(x, str) else ['None']))\n",
    "test['production_countries'] = test['production_countries'].apply(lambda x: list(map(lambda d: list(d.values())[1], ast.literal_eval(x)) if isinstance(x, str) else ['None']))"
   ]
  },
  {
   "cell_type": "code",
   "execution_count": 460,
   "metadata": {},
   "outputs": [
    {
     "data": {
      "text/plain": [
       "0    [United States of America]\n",
       "1    [United States of America]\n",
       "2    [United States of America]\n",
       "3                       [India]\n",
       "4                 [South Korea]\n",
       "Name: production_countries, dtype: object"
      ]
     },
     "execution_count": 460,
     "metadata": {},
     "output_type": "execute_result"
    }
   ],
   "source": [
    "films['production_countries'].head()"
   ]
  },
  {
   "cell_type": "code",
   "execution_count": 461,
   "metadata": {},
   "outputs": [
    {
     "data": {
      "text/plain": [
       "[('United States of America', 2282),\n",
       " ('United Kingdom', 380),\n",
       " ('France', 222),\n",
       " ('Germany', 167),\n",
       " ('Canada', 120),\n",
       " ('India', 81),\n",
       " ('Italy', 64),\n",
       " ('Japan', 61),\n",
       " ('Australia', 61),\n",
       " ('Russia', 58),\n",
       " ('None', 55),\n",
       " ('Spain', 54),\n",
       " ('China', 42),\n",
       " ('Hong Kong', 42),\n",
       " ('Ireland', 23),\n",
       " ('Belgium', 23),\n",
       " ('South Korea', 22),\n",
       " ('Mexico', 19),\n",
       " ('Sweden', 18),\n",
       " ('New Zealand', 17),\n",
       " ('Netherlands', 15),\n",
       " ('Czech Republic', 14),\n",
       " ('Denmark', 13),\n",
       " ('Brazil', 12),\n",
       " ('Luxembourg', 10),\n",
       " ('South Africa', 10),\n",
       " ('Hungary', 9),\n",
       " ('United Arab Emirates', 9),\n",
       " ('Austria', 8),\n",
       " ('Switzerland', 8)]"
      ]
     },
     "execution_count": 461,
     "metadata": {},
     "output_type": "execute_result"
    }
   ],
   "source": [
    "Counter([i for j in films['production_countries'] for i in j]).most_common(30)"
   ]
  },
  {
   "cell_type": "code",
   "execution_count": 462,
   "metadata": {},
   "outputs": [
    {
     "data": {
      "text/plain": [
       "1    2277\n",
       "2     525\n",
       "3     116\n",
       "4      57\n",
       "5      21\n",
       "6       3\n",
       "8       1\n",
       "Name: production_countries, dtype: int64"
      ]
     },
     "execution_count": 462,
     "metadata": {},
     "output_type": "execute_result"
    }
   ],
   "source": [
    "films['production_countries'].apply(lambda x: len(x) if x != [] else 0).value_counts()"
   ]
  },
  {
   "cell_type": "markdown",
   "metadata": {},
   "source": [
    "Most films have only one production country, and most of them are in the US"
   ]
  },
  {
   "cell_type": "markdown",
   "metadata": {},
   "source": [
    "#### Release date"
   ]
  },
  {
   "cell_type": "markdown",
   "metadata": {},
   "source": [
    "There may be multiple interesting aspects of the release date. Which year it was released is of course important for the revenue, as the revenue tend to go up when the film is newer. But maybe the time of year the film is released or even the day of the week plays a role in the revenue?"
   ]
  },
  {
   "cell_type": "code",
   "execution_count": 463,
   "metadata": {},
   "outputs": [
    {
     "data": {
      "text/plain": [
       "0     2/20/15\n",
       "1      8/6/04\n",
       "2    10/10/14\n",
       "3      3/9/12\n",
       "4      2/5/09\n",
       "Name: release_date, dtype: object"
      ]
     },
     "execution_count": 463,
     "metadata": {},
     "output_type": "execute_result"
    }
   ],
   "source": [
    "films['release_date'].head()"
   ]
  },
  {
   "cell_type": "code",
   "execution_count": 464,
   "metadata": {},
   "outputs": [],
   "source": [
    "films[['release_month', 'release_day', 'release_year']] = films['release_date'].str.split('/', expand=True).replace(np.nan, -1).astype(int)\n",
    "test[['release_month', 'release_day', 'release_year']] = test['release_date'].str.split('/', expand=True).replace(np.nan, -1).astype(int)"
   ]
  },
  {
   "cell_type": "code",
   "execution_count": 465,
   "metadata": {},
   "outputs": [],
   "source": [
    "def fix_year(year):\n",
    "    if year <= 19:\n",
    "        return 2000 + year\n",
    "    else:\n",
    "        return 1900 + year"
   ]
  },
  {
   "cell_type": "code",
   "execution_count": 466,
   "metadata": {},
   "outputs": [],
   "source": [
    "films['release_year'] = films['release_year'].apply(lambda x: fix_year(x))\n",
    "test['release_year'] = test['release_year'].apply(lambda x: fix_year(x))"
   ]
  },
  {
   "cell_type": "code",
   "execution_count": 467,
   "metadata": {},
   "outputs": [
    {
     "data": {
      "text/plain": [
       "0       2015\n",
       "1       2004\n",
       "2       2014\n",
       "3       2012\n",
       "4       2009\n",
       "        ... \n",
       "2995    1994\n",
       "2996    2013\n",
       "2997    1996\n",
       "2998    2004\n",
       "2999    2011\n",
       "Name: release_year, Length: 3000, dtype: int64"
      ]
     },
     "execution_count": 467,
     "metadata": {},
     "output_type": "execute_result"
    }
   ],
   "source": [
    "films['release_year']"
   ]
  },
  {
   "cell_type": "code",
   "execution_count": 468,
   "metadata": {},
   "outputs": [
    {
     "data": {
      "image/png": "[encoded data removed]",
      "text/plain": [
       "<Figure size 432x288 with 1 Axes>"
      ]
     },
     "metadata": {
      "needs_background": "light"
     },
     "output_type": "display_data"
    }
   ],
   "source": [
    "plt.hist(films['release_year'].sort_values(), bins = 30, align='mid')\n",
    "plt.show()"
   ]
  },
  {
   "cell_type": "code",
   "execution_count": 469,
   "metadata": {},
   "outputs": [],
   "source": [
    "films['day_of_week'] = pd.to_datetime(films['release_date']).dt.weekday"
   ]
  },
  {
   "cell_type": "code",
   "execution_count": 470,
   "metadata": {},
   "outputs": [
    {
     "data": {
      "text/plain": [
       "0       4\n",
       "1       4\n",
       "2       4\n",
       "3       4\n",
       "4       3\n",
       "       ..\n",
       "2995    4\n",
       "2996    3\n",
       "2997    4\n",
       "2998    4\n",
       "2999    3\n",
       "Name: day_of_week, Length: 3000, dtype: int64"
      ]
     },
     "execution_count": 470,
     "metadata": {},
     "output_type": "execute_result"
    }
   ],
   "source": [
    "films['day_of_week']"
   ]
  },
  {
   "cell_type": "code",
   "execution_count": 471,
   "metadata": {},
   "outputs": [
    {
     "data": {
      "image/png": "[encoded data removed]",
      "text/plain": [
       "<Figure size 432x288 with 1 Axes>"
      ]
     },
     "metadata": {
      "needs_background": "light"
     },
     "output_type": "display_data"
    }
   ],
   "source": [
    "plt.plot(films['day_of_week'], films['revenue'], 'bo')\n",
    "plt.xlabel('Day of week')\n",
    "plt.ylabel('Revenue')\n",
    "plt.show()"
   ]
  },
  {
   "cell_type": "markdown",
   "metadata": {},
   "source": [
    "Where Monday is 0 and Sunday is 6"
   ]
  },
  {
   "cell_type": "code",
   "execution_count": 472,
   "metadata": {},
   "outputs": [
    {
     "data": {
      "image/png": "[encoded data removed]",
      "text/plain": [
       "<Figure size 432x288 with 1 Axes>"
      ]
     },
     "metadata": {
      "needs_background": "light"
     },
     "output_type": "display_data"
    }
   ],
   "source": [
    "plt.plot(films['release_month'], films['revenue'], 'bo')\n",
    "plt.xlabel('Month')\n",
    "plt.ylabel('Revenue')\n",
    "plt.show()"
   ]
  },
  {
   "cell_type": "markdown",
   "metadata": {},
   "source": [
    "#### Spoken Languages"
   ]
  },
  {
   "cell_type": "code",
   "execution_count": 473,
   "metadata": {},
   "outputs": [
    {
     "data": {
      "text/plain": [
       "0             [{'iso_639_1': 'en', 'name': 'English'}]\n",
       "1             [{'iso_639_1': 'en', 'name': 'English'}]\n",
       "2             [{'iso_639_1': 'en', 'name': 'English'}]\n",
       "3    [{'iso_639_1': 'en', 'name': 'English'}, {'iso...\n",
       "4             [{'iso_639_1': 'ko', 'name': '한국어/조선말'}]\n",
       "Name: spoken_languages, dtype: object"
      ]
     },
     "execution_count": 473,
     "metadata": {},
     "output_type": "execute_result"
    }
   ],
   "source": [
    "films['spoken_languages'].head()"
   ]
  },
  {
   "cell_type": "markdown",
   "metadata": {},
   "source": [
    "Here we want either the iso code(ex. en for English) or the name of the language. Lets try the name first."
   ]
  },
  {
   "cell_type": "code",
   "execution_count": 474,
   "metadata": {},
   "outputs": [],
   "source": [
    "films['spoken_languages'] = films['spoken_languages'].apply(lambda x: list(map(lambda d: list(d.values())[1], ast.literal_eval(x)) if isinstance(x, str) else ['None']))\n",
    "test['spoken_languages'] = test['spoken_languages'].apply(lambda x: list(map(lambda d: list(d.values())[1], ast.literal_eval(x)) if isinstance(x, str) else ['None']))"
   ]
  },
  {
   "cell_type": "code",
   "execution_count": 475,
   "metadata": {},
   "outputs": [
    {
     "data": {
      "text/plain": [
       "0            [English]\n",
       "1            [English]\n",
       "2            [English]\n",
       "3    [English, हिन्दी]\n",
       "4            [한국어/조선말]\n",
       "Name: spoken_languages, dtype: object"
      ]
     },
     "execution_count": 475,
     "metadata": {},
     "output_type": "execute_result"
    }
   ],
   "source": [
    "films['spoken_languages'].head()"
   ]
  },
  {
   "cell_type": "code",
   "execution_count": 476,
   "metadata": {},
   "outputs": [
    {
     "data": {
      "text/plain": [
       "[('English', 2618),\n",
       " ('Français', 288),\n",
       " ('Español', 239),\n",
       " ('Deutsch', 169),\n",
       " ('Pусский', 152),\n",
       " ('Italiano', 124),\n",
       " ('日本語', 89),\n",
       " ('普通话', 68),\n",
       " ('हिन्दी', 56),\n",
       " ('', 47)]"
      ]
     },
     "execution_count": 476,
     "metadata": {},
     "output_type": "execute_result"
    }
   ],
   "source": [
    "Counter([i for j in films['spoken_languages'] for i in j]).most_common(10)"
   ]
  },
  {
   "cell_type": "markdown",
   "metadata": {},
   "source": [
    "### Filling in Non Values"
   ]
  },
  {
   "cell_type": "markdown",
   "metadata": {},
   "source": [
    "There are multiple instances that have missing features. And most Machine Learning Algorithms and models cant work with that. We will try to set the missing values to some value, either None or the median, or if there is just one missing in a feature, maybe we can find it online."
   ]
  },
  {
   "cell_type": "code",
   "execution_count": 477,
   "metadata": {
    "scrolled": true
   },
   "outputs": [
    {
     "data": {
      "text/plain": [
       "budget                  0\n",
       "genres                  0\n",
       "original_language       0\n",
       "popularity              0\n",
       "production_companies    0\n",
       "production_countries    0\n",
       "release_date            0\n",
       "runtime                 2\n",
       "spoken_languages        0\n",
       "cast                    0\n",
       "crew                    0\n",
       "revenue                 0\n",
       "has_collection          0\n",
       "num_genres              0\n",
       "release_month           0\n",
       "release_day             0\n",
       "release_year            0\n",
       "day_of_week             0\n",
       "dtype: int64"
      ]
     },
     "execution_count": 477,
     "metadata": {},
     "output_type": "execute_result"
    }
   ],
   "source": [
    "films.isna().sum()"
   ]
  },
  {
   "cell_type": "markdown",
   "metadata": {},
   "source": [
    "In our train set there is only one feature that has a non value now, runtime. This is because we have transformed most of the features which has filled in most of the missing values. We will fill in the missing values with the median using SimpleImputer"
   ]
  },
  {
   "cell_type": "code",
   "execution_count": 478,
   "metadata": {},
   "outputs": [
    {
     "data": {
      "text/plain": [
       "array([104.])"
      ]
     },
     "execution_count": 478,
     "metadata": {},
     "output_type": "execute_result"
    }
   ],
   "source": [
    "from sklearn.impute import SimpleImputer\n",
    "imp_median = SimpleImputer(missing_values=np.nan, strategy='median')\n",
    "films['runtime'] = imp_median.fit_transform(films[['runtime']])\n",
    "imp_median.statistics_"
   ]
  },
  {
   "cell_type": "code",
   "execution_count": 479,
   "metadata": {},
   "outputs": [
    {
     "name": "stdout",
     "output_type": "stream",
     "text": [
      "<class 'pandas.core.frame.DataFrame'>\n",
      "RangeIndex: 3000 entries, 0 to 2999\n",
      "Data columns (total 18 columns):\n",
      " #   Column                Non-Null Count  Dtype  \n",
      "---  ------                --------------  -----  \n",
      " 0   budget                3000 non-null   int64  \n",
      " 1   genres                3000 non-null   object \n",
      " 2   original_language     3000 non-null   object \n",
      " 3   popularity            3000 non-null   float64\n",
      " 4   production_companies  3000 non-null   object \n",
      " 5   production_countries  3000 non-null   object \n",
      " 6   release_date          3000 non-null   object \n",
      " 7   runtime               3000 non-null   float64\n",
      " 8   spoken_languages      3000 non-null   object \n",
      " 9   cast                  3000 non-null   object \n",
      " 10  crew                  3000 non-null   object \n",
      " 11  revenue               3000 non-null   int64  \n",
      " 12  has_collection        3000 non-null   int32  \n",
      " 13  num_genres            3000 non-null   int64  \n",
      " 14  release_month         3000 non-null   int32  \n",
      " 15  release_day           3000 non-null   int32  \n",
      " 16  release_year          3000 non-null   int64  \n",
      " 17  day_of_week           3000 non-null   int64  \n",
      "dtypes: float64(2), int32(3), int64(5), object(8)\n",
      "memory usage: 386.8+ KB\n"
     ]
    }
   ],
   "source": [
    "films.info()"
   ]
  },
  {
   "cell_type": "code",
   "execution_count": 480,
   "metadata": {},
   "outputs": [
    {
     "data": {
      "text/plain": [
       "budget                  0\n",
       "genres                  0\n",
       "original_language       0\n",
       "popularity              0\n",
       "production_companies    0\n",
       "production_countries    0\n",
       "release_date            1\n",
       "runtime                 4\n",
       "spoken_languages        0\n",
       "cast                    0\n",
       "crew                    0\n",
       "has_collection          0\n",
       "num_genres              0\n",
       "release_month           0\n",
       "release_day             0\n",
       "release_year            0\n",
       "dtype: int64"
      ]
     },
     "execution_count": 480,
     "metadata": {},
     "output_type": "execute_result"
    }
   ],
   "source": [
    "test.isna().sum()"
   ]
  },
  {
   "cell_type": "code",
   "execution_count": 489,
   "metadata": {},
   "outputs": [
    {
     "data": {
      "text/html": [
       "<div>\n",
       "<style scoped>\n",
       "    .dataframe tbody tr th:only-of-type {\n",
       "        vertical-align: middle;\n",
       "    }\n",
       "\n",
       "    .dataframe tbody tr th {\n",
       "        vertical-align: top;\n",
       "    }\n",
       "\n",
       "    .dataframe thead th {\n",
       "        text-align: right;\n",
       "    }\n",
       "</style>\n",
       "<table border=\"1\" class=\"dataframe\">\n",
       "  <thead>\n",
       "    <tr style=\"text-align: right;\">\n",
       "      <th></th>\n",
       "      <th>release_month</th>\n",
       "      <th>release_day</th>\n",
       "      <th>release_year</th>\n",
       "    </tr>\n",
       "  </thead>\n",
       "  <tbody>\n",
       "    <tr>\n",
       "      <th>count</th>\n",
       "      <td>3000.000000</td>\n",
       "      <td>3000.000000</td>\n",
       "      <td>3000.000000</td>\n",
       "    </tr>\n",
       "    <tr>\n",
       "      <th>mean</th>\n",
       "      <td>6.775333</td>\n",
       "      <td>15.046333</td>\n",
       "      <td>1999.713000</td>\n",
       "    </tr>\n",
       "    <tr>\n",
       "      <th>std</th>\n",
       "      <td>3.409115</td>\n",
       "      <td>8.632981</td>\n",
       "      <td>15.423313</td>\n",
       "    </tr>\n",
       "    <tr>\n",
       "      <th>min</th>\n",
       "      <td>1.000000</td>\n",
       "      <td>1.000000</td>\n",
       "      <td>1921.000000</td>\n",
       "    </tr>\n",
       "    <tr>\n",
       "      <th>25%</th>\n",
       "      <td>4.000000</td>\n",
       "      <td>8.000000</td>\n",
       "      <td>1993.000000</td>\n",
       "    </tr>\n",
       "    <tr>\n",
       "      <th>50%</th>\n",
       "      <td>7.000000</td>\n",
       "      <td>15.000000</td>\n",
       "      <td>2004.000000</td>\n",
       "    </tr>\n",
       "    <tr>\n",
       "      <th>75%</th>\n",
       "      <td>10.000000</td>\n",
       "      <td>22.000000</td>\n",
       "      <td>2011.000000</td>\n",
       "    </tr>\n",
       "    <tr>\n",
       "      <th>max</th>\n",
       "      <td>12.000000</td>\n",
       "      <td>31.000000</td>\n",
       "      <td>2017.000000</td>\n",
       "    </tr>\n",
       "  </tbody>\n",
       "</table>\n",
       "</div>"
      ],
      "text/plain": [
       "       release_month  release_day  release_year\n",
       "count    3000.000000  3000.000000   3000.000000\n",
       "mean        6.775333    15.046333   1999.713000\n",
       "std         3.409115     8.632981     15.423313\n",
       "min         1.000000     1.000000   1921.000000\n",
       "25%         4.000000     8.000000   1993.000000\n",
       "50%         7.000000    15.000000   2004.000000\n",
       "75%        10.000000    22.000000   2011.000000\n",
       "max        12.000000    31.000000   2017.000000"
      ]
     },
     "execution_count": 489,
     "metadata": {},
     "output_type": "execute_result"
    }
   ],
   "source": [
    "films[['release_month', 'release_day' ,'release_year']].describe()"
   ]
  },
  {
   "cell_type": "code",
   "execution_count": 482,
   "metadata": {},
   "outputs": [],
   "source": [
    "test['release_date'].fillna('7/15/04', inplace=True)"
   ]
  },
  {
   "cell_type": "markdown",
   "metadata": {},
   "source": [
    "Fixing the replaced date in the test set. "
   ]
  },
  {
   "cell_type": "code",
   "execution_count": 483,
   "metadata": {},
   "outputs": [],
   "source": [
    "test[['release_month', 'release_day', 'release_year']] = test['release_date'].str.split('/', expand=True).replace(np.nan, -1).astype(int)\n",
    "test['release_year'] = test['release_year'].apply(lambda x: fix_year(x))"
   ]
  },
  {
   "cell_type": "markdown",
   "metadata": {},
   "source": [
    "Replacing missing values with"
   ]
  },
  {
   "cell_type": "code",
   "execution_count": 486,
   "metadata": {},
   "outputs": [
    {
     "data": {
      "text/plain": [
       "array([104.])"
      ]
     },
     "execution_count": 486,
     "metadata": {},
     "output_type": "execute_result"
    }
   ],
   "source": [
    "test['runtime'] = imp_median.fit_transform(test[['runtime']])\n",
    "imp_median.statistics_"
   ]
  },
  {
   "cell_type": "markdown",
   "metadata": {},
   "source": [
    "## 2.3 Handling non numeric objects"
   ]
  },
  {
   "cell_type": "code",
   "execution_count": null,
   "metadata": {},
   "outputs": [],
   "source": []
  }
 ],
 "metadata": {
  "kernelspec": {
   "display_name": "Python 3",
   "language": "python",
   "name": "python3"
  },
  "language_info": {
   "codemirror_mode": {
    "name": "ipython",
    "version": 3
   },
   "file_extension": ".py",
   "mimetype": "text/x-python",
   "name": "python",
   "nbconvert_exporter": "python",
   "pygments_lexer": "ipython3",
   "version": "3.8.3"
  }
 },
 "nbformat": 4,
 "nbformat_minor": 4
}
